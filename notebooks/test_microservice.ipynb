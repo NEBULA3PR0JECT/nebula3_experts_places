{
 "cells": [
  {
   "cell_type": "markdown",
   "metadata": {},
   "source": [
    "# Testing movies with experts"
   ]
  },
  {
   "cell_type": "markdown",
   "metadata": {},
   "source": [
    "<img src=\"http://74.82.28.99:9000/msrvtt/video9979.mp4\" />"
   ]
  },
  {
   "cell_type": "code",
   "execution_count": 3,
   "metadata": {},
   "outputs": [
    {
     "name": "stdout",
     "output_type": "stream",
     "text": [
      "['/home/amir/workspace/toga/nebula3_experts_places/notebooks', '/home/amir/miniconda3/envs/nebula/lib/python39.zip', '/home/amir/miniconda3/envs/nebula/lib/python3.9', '/home/amir/miniconda3/envs/nebula/lib/python3.9/lib-dynload', '', '/home/amir/miniconda3/envs/nebula/lib/python3.9/site-packages', '/home/amir/miniconda3/envs/nebula/lib/python3.9/site-packages/IPython/extensions', '/home/amir/.ipython', '/home/amir/.local/lib/python3.9/site-packages', '/notebooks']\n"
     ]
    },
    {
     "ename": "ModuleNotFoundError",
     "evalue": "No module named 'places'",
     "output_type": "error",
     "traceback": [
      "\u001b[0;31m---------------------------------------------------------------------------\u001b[0m",
      "\u001b[0;31mModuleNotFoundError\u001b[0m                       Traceback (most recent call last)",
      "\u001b[0;32m<ipython-input-3-7ca7b58a638e>\u001b[0m in \u001b[0;36m<module>\u001b[0;34m\u001b[0m\n\u001b[1;32m      6\u001b[0m \u001b[0msys\u001b[0m\u001b[0;34m.\u001b[0m\u001b[0mpath\u001b[0m\u001b[0;34m.\u001b[0m\u001b[0mappend\u001b[0m\u001b[0;34m(\u001b[0m\u001b[0;34m\"/notebooks\"\u001b[0m\u001b[0;34m)\u001b[0m\u001b[0;34m\u001b[0m\u001b[0;34m\u001b[0m\u001b[0m\n\u001b[1;32m      7\u001b[0m \u001b[0mprint\u001b[0m\u001b[0;34m(\u001b[0m\u001b[0msys\u001b[0m\u001b[0;34m.\u001b[0m\u001b[0mpath\u001b[0m\u001b[0;34m)\u001b[0m\u001b[0;34m\u001b[0m\u001b[0;34m\u001b[0m\u001b[0m\n\u001b[0;32m----> 8\u001b[0;31m \u001b[0;32mfrom\u001b[0m \u001b[0mplaces\u001b[0m\u001b[0;34m.\u001b[0m\u001b[0mplaces_expert\u001b[0m \u001b[0;32mimport\u001b[0m \u001b[0mPlacesExpert\u001b[0m\u001b[0;34m\u001b[0m\u001b[0;34m\u001b[0m\u001b[0m\n\u001b[0m\u001b[1;32m      9\u001b[0m \u001b[0;32mfrom\u001b[0m \u001b[0mPIL\u001b[0m \u001b[0;32mimport\u001b[0m \u001b[0mImage\u001b[0m\u001b[0;34m\u001b[0m\u001b[0;34m\u001b[0m\u001b[0m\n\u001b[1;32m     10\u001b[0m \u001b[0;34m\u001b[0m\u001b[0m\n",
      "\u001b[0;31mModuleNotFoundError\u001b[0m: No module named 'places'"
     ]
    }
   ],
   "source": [
    "import sys\n",
    "import os\n",
    "import torch.cuda\n",
    "import cv2\n",
    "import torch\n",
    "sys.path.append(\"/notebooks\")\n",
    "print(sys.path)\n",
    "from places.places_expert import PlacesExpert \n",
    "from PIL import Image\n",
    "\n",
    "os.environ['ARANGO_HOST']='172.83.9.249'\n",
    "places_expert = PlacesExpert()"
   ]
  },
  {
   "cell_type": "code",
   "execution_count": 2,
   "metadata": {},
   "outputs": [],
   "source": [
    "import cv2\n",
    "import numpy as np\n",
    "# Create a VideoCapture object and read from input file\n",
    "cap = cv2.VideoCapture('http://74.82.28.99:9000/msrvtt/video9979.mp4')\n",
    "# Check if camera opened successfully\n",
    "if (cap.isOpened()== False): \n",
    "  print(\"Error opening video  file\")\n",
    "   \n",
    "# Read until video is completed\n",
    "while(cap.isOpened()):\n",
    "      \n",
    "  # Capture frame-by-frame\n",
    "  ret, frame = cap.read()\n",
    "  if ret == True:\n",
    "   \n",
    "    # Display the resulting frame\n",
    "    cv2.imshow('Frame', frame)\n",
    "   \n",
    "    # Press Q on keyboard to  exit\n",
    "    if cv2.waitKey(25) & 0xFF == ord('q'):\n",
    "      break\n",
    "   \n",
    "  # Break the loop\n",
    "  else: \n",
    "    break\n",
    "   \n",
    "# When everything done, release \n",
    "# the video capture object\n",
    "cap.release()\n",
    "   \n",
    "# Closes all the frames\n",
    "cv2.destroyAllWindows()"
   ]
  },
  {
   "cell_type": "markdown",
   "metadata": {},
   "source": [
    "### Get Movie frames"
   ]
  },
  {
   "cell_type": "code",
   "execution_count": null,
   "metadata": {},
   "outputs": [],
   "source": [
    "arango_id = \"Movies/308486\"\n",
    "scene_element = 0\n",
    "movie_fetched = places_expert.download_video_file(arango_id)\n",
    "movie = places_expert.movie_db.get_movie(arango_id)\n",
    "print(movie)\n",
    "frame_numbers = movie['mdfs'][scene_element]\n",
    "frames = places_expert.divide_movie_into_frames(frame_numbers)"
   ]
  },
  {
   "cell_type": "code",
   "execution_count": 1,
   "metadata": {},
   "outputs": [],
   "source": [
    "import requests\n",
    "import json\n",
    " \n",
    "def post_request(url, payload):\n",
    "    json_payload = json.dumps(payload, indent = 4) \n",
    "    headers = {\n",
    "        'content-type': \"application/json\",\n",
    "    }\n",
    "    \n",
    "    response = requests.request(\"POST\", url, data=json_payload, headers=headers, params=None)\n",
    "    print(response.json())\n",
    " \n",
    "\n"
   ]
  },
  {
   "cell_type": "code",
   "execution_count": null,
   "metadata": {},
   "outputs": [],
   "source": [
    "cur_frame_no = 0\n",
    "for frame_file in frames:\n",
    "    _img = Image.open(frame_file)\n",
    "    _img.show()\n",
    "    cur_frame_no += 1"
   ]
  },
  {
   "cell_type": "markdown",
   "metadata": {},
   "source": [
    "## Check places"
   ]
  },
  {
   "cell_type": "code",
   "execution_count": null,
   "metadata": {},
   "outputs": [],
   "source": [
    "places_url = \"https://d20c4e633571a455ebfc13ee3e5825f19.clg07azjl.paperspacegradient.com/predict\"\n",
    "payload = {\n",
    "    \"movie_id\": \"Movies/308421\",\n",
    "    \"local\": \"false\",\n",
    "    \"scene_element\": 1,\n",
    "    \"extra_params\": {\n",
    "        \"min_prob\": 0.5\n",
    "    }\n",
    "}\n",
    "post_request(places_url, payload)"
   ]
  },
  {
   "cell_type": "markdown",
   "metadata": {},
   "source": [
    "## Check Tracker"
   ]
  },
  {
   "cell_type": "code",
   "execution_count": null,
   "metadata": {},
   "outputs": [],
   "source": [
    "url = \"http://localhost:48005/predict\"\n",
    "payload = {\n",
    "    \"movie_id\": \"Movies/308421\",\n",
    "    \"local\": \"false\",\n",
    "    \"extra_params\": {\n",
    "        \"action\": \"track\",\n",
    "        \"detect_every\": 50\n",
    "    }\n",
    "}\n",
    "post_request(url, payload)"
   ]
  }
 ],
 "metadata": {
  "interpreter": {
   "hash": "88fd6b9ae9012ff05428a2e5cedd09c9511d8142e688ea807aca3ee12b2fbf86"
  },
  "kernelspec": {
   "display_name": "Python 3.9.1 ('nebula')",
   "language": "python",
   "name": "python3"
  },
  "language_info": {
   "codemirror_mode": {
    "name": "ipython",
    "version": 3
   },
   "file_extension": ".py",
   "mimetype": "text/x-python",
   "name": "python",
   "nbconvert_exporter": "python",
   "pygments_lexer": "ipython3",
   "version": "3.9.1"
  },
  "orig_nbformat": 4
 },
 "nbformat": 4,
 "nbformat_minor": 2
}
