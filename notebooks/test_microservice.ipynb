{
 "cells": [
  {
   "cell_type": "markdown",
   "metadata": {},
   "source": [
    "# Testing movies with experts"
   ]
  },
  {
   "cell_type": "markdown",
   "metadata": {},
   "source": [
    "<img src=\"http://74.82.28.99:9000/msrvtt/video9979.mp4\" />"
   ]
  },
  {
   "cell_type": "code",
   "execution_count": 7,
   "metadata": {},
   "outputs": [],
   "source": [
    "import cv2\n",
    "import numpy as np\n",
    "# Create a VideoCapture object and read from input file\n",
    "cap = cv2.VideoCapture('http://74.82.28.99:9000/msrvtt/video9979.mp4')\n",
    "# Check if camera opened successfully\n",
    "if (cap.isOpened()== False): \n",
    "  print(\"Error opening video  file\")\n",
    "   \n",
    "# Read until video is completed\n",
    "while(cap.isOpened()):\n",
    "      \n",
    "  # Capture frame-by-frame\n",
    "  ret, frame = cap.read()\n",
    "  if ret == True:\n",
    "   \n",
    "    # Display the resulting frame\n",
    "    cv2.imshow('Frame', frame)\n",
    "   \n",
    "    # Press Q on keyboard to  exit\n",
    "    if cv2.waitKey(25) & 0xFF == ord('q'):\n",
    "      break\n",
    "   \n",
    "  # Break the loop\n",
    "  else: \n",
    "    break\n",
    "   \n",
    "# When everything done, release \n",
    "# the video capture object\n",
    "cap.release()\n",
    "   \n",
    "# Closes all the frames\n",
    "cv2.destroyAllWindows()"
   ]
  },
  {
   "cell_type": "code",
   "execution_count": null,
   "metadata": {},
   "outputs": [],
   "source": [
    "import requests\n",
    "import json\n",
    " \n",
    "def post_request(url, payload):\n",
    "    json_payload = json.dumps(payload, indent = 4) \n",
    "    headers = {\n",
    "        'content-type': \"application/json\",\n",
    "    }\n",
    "    \n",
    "    response = requests.request(\"POST\", url, data=json_payload, headers=headers, params=None)\n",
    "    print(response.json())\n",
    " \n",
    "\n"
   ]
  },
  {
   "cell_type": "markdown",
   "metadata": {},
   "source": [
    "## Check places"
   ]
  },
  {
   "cell_type": "code",
   "execution_count": null,
   "metadata": {},
   "outputs": [],
   "source": [
    "places_url = \"https://d20c4e633571a455ebfc13ee3e5825f19.clg07azjl.paperspacegradient.com/predict\"\n",
    "payload = {\n",
    "    \"movie_id\": \"Movies/308421\",\n",
    "    \"local\": \"false\",\n",
    "    \"scene_element\": 1,\n",
    "    \"extra_params\": {\n",
    "        \"min_prob\": 0.5\n",
    "    }\n",
    "}\n",
    "post_request(places_url, payload)"
   ]
  },
  {
   "cell_type": "code",
   "execution_count": null,
   "metadata": {},
   "outputs": [],
   "source": [
    "url = \"http://localhost:48005/predict\"\n",
    "payload = {\n",
    "    \"movie_id\": \"Movies/308421\",\n",
    "    \"local\": \"false\",\n",
    "    \"extra_params\": {\n",
    "        \"action\": \"track\",\n",
    "        \"detect_every\": 50\n",
    "    }\n",
    "}\n",
    "post_request(url, payload)"
   ]
  }
 ],
 "metadata": {
  "interpreter": {
   "hash": "88fd6b9ae9012ff05428a2e5cedd09c9511d8142e688ea807aca3ee12b2fbf86"
  },
  "kernelspec": {
   "display_name": "Python 3.9.1 ('nebula')",
   "language": "python",
   "name": "python3"
  },
  "language_info": {
   "codemirror_mode": {
    "name": "ipython",
    "version": 3
   },
   "file_extension": ".py",
   "mimetype": "text/x-python",
   "name": "python",
   "nbconvert_exporter": "python",
   "pygments_lexer": "ipython3",
   "version": "3.9.1"
  },
  "orig_nbformat": 4
 },
 "nbformat": 4,
 "nbformat_minor": 2
}
